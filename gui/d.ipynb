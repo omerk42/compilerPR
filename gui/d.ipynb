{
 "cells": [
  {
   "cell_type": "raw",
   "id": "68cd6b99",
   "metadata": {},
   "source": [
    "---\n",
    "title: 🚀 compiler project\n",
    "description: omer khan and sultan aljohani compiler project\n",
    "params:\n",
    "    filename:\n",
    "        label: ملف النص المراد تشكيله\n",
    "        input: file\n",
    "        maxFileSize: 1MB\n",
    "    ---"
   ]
  },
  {
   "attachments": {},
   "cell_type": "markdown",
   "id": "8475bd14",
   "metadata": {},
   "source": [
    "# ✨ تعريف الثوابت ✨"
   ]
  },
  {
   "cell_type": "code",
   "execution_count": null,
   "id": "0b983456",
   "metadata": {},
   "outputs": [],
   "source": [
    "#الحركات\n",
    "FATHATAN = u'\\u064b'\n",
    "DAMMATAN = u'\\u064c'\n",
    "KASRATAN = u'\\u064d'\n",
    "FATHA = u'\\u064e'\n",
    "DAMMA = u'\\u064f'\n",
    "KASRA = u'\\u0650'\n",
    "SHADDA = u'\\u0651'\n",
    "SUKUN = u'\\u0652'\n",
    "\n",
    "# الكلمات\n",
    "f = open(\"names.txt\",\"r\")\n",
    "scanner = f.read().split()\n",
    "adjective = [*set(scanner)]\n",
    "verb = [\"اكل\",\"ذهب\"]\n",
    "objects = [\"الماء\",\"التفاح\",\"البرتقال\"]\n",
    "noun = [\"بارد\", \"لذيذ\" , \"صادق\"]\n",
    "\n",
    "# \n",
    "token = []\n",
    "result = []"
   ]
  },
  {
   "attachments": {},
   "cell_type": "markdown",
   "id": "b96ca235",
   "metadata": {},
   "source": [
    "# 📚 قراءه الملف 📚"
   ]
  },
  {
   "cell_type": "code",
   "execution_count": null,
   "id": "3aa29a87",
   "metadata": {},
   "outputs": [],
   "source": [
    "f = open(filename,\"r\") "
   ]
  },
  {
   "cell_type": "code",
   "execution_count": null,
   "id": "da4bb483",
   "metadata": {},
   "outputs": [],
   "source": [
    "f = open(filename,\"r\") \n",
    "scanner = f.read()\n",
    "parser = scanner.split()"
   ]
  },
  {
   "attachments": {},
   "cell_type": "markdown",
   "id": "55cb8f4b",
   "metadata": {},
   "source": [
    "# 🔍 تقسيم الكلمات 🔍"
   ]
  },
  {
   "cell_type": "code",
   "execution_count": null,
   "id": "17414402",
   "metadata": {},
   "outputs": [],
   "source": [
    "for t in parser:\n",
    "    if t in verb:\n",
    "        token.append(\"verb\")\n",
    "    elif t in adjective:\n",
    "        token.append(\"adjective\")\n",
    "    elif t in objects:\n",
    "        token.append(\"objects\")\n",
    "    elif t in noun:\n",
    "        token.append(\"noun\")\n",
    "    else:\n",
    "        token.append(\"notD\")  "
   ]
  },
  {
   "attachments": {},
   "cell_type": "markdown",
   "id": "deae6fb6",
   "metadata": {},
   "source": [
    "# 🛠️ اضافه حركات بناء على تركيب جملة 🛠️"
   ]
  },
  {
   "cell_type": "code",
   "execution_count": null,
   "id": "292766f5",
   "metadata": {},
   "outputs": [],
   "source": [
    "for i in range(len(token)):\n",
    "    match token[i]:\n",
    "        case \"verb\":\n",
    "            # <verb sentence> \n",
    "            match token[i+1]:\n",
    "                case \"adjective\":\n",
    "                    if (i+2 <= len(token)-1):\n",
    "                        match token[i+2]:\n",
    "                            case \"objects\":\n",
    "                                # <object> <adjective> <verb>\n",
    "                                result.append(parser[i]+FATHA)\n",
    "                                result.append(parser[i+1]+DAMMA)\n",
    "                                result.append(parser[i+2]+FATHA)\n",
    "                                result.append(\"\\n\")\n",
    "                            case defult:\n",
    "                                result.append(parser[i]+FATHA)\n",
    "                                result.append(parser[i+1]+DAMMA)\n",
    "                                result.append(\"\\n\")                                    \n",
    "                    else:\n",
    "                        # <adjective> <verb>\n",
    "                        result.append(parser[i]+FATHA)\n",
    "                        result.append(parser[i+1]+DAMMA)\n",
    "                        result.append(\"\\n\")\n",
    "        case \"adjective\":\n",
    "            # <noun sentence>\n",
    "            if (i+1 <= len(token)-1):\n",
    "                match token[i+1]:\n",
    "                    case \"noun\":\n",
    "                        result.append(parser[i]+DAMMA)\n",
    "                        result.append(parser[i+1]+DAMMATAN)\n",
    "                        result.append(\"\\n\")                \n",
    "        case \"objects\":\n",
    "            # <noun sentence>\n",
    "            if (i+1 <= len(token)-1):\n",
    "                match token[i+1]:\n",
    "                    case \"noun\":\n",
    "                        result.append(parser[i]+DAMMA)\n",
    "                        result.append(parser[i+1]+DAMMATAN)\n",
    "                        result.append(\"\\n\") "
   ]
  },
  {
   "attachments": {},
   "cell_type": "markdown",
   "id": "44703c41",
   "metadata": {},
   "source": [
    "# 🚀 طباعه النتائج 🚀"
   ]
  },
  {
   "cell_type": "code",
   "execution_count": null,
   "id": "37a09c51",
   "metadata": {},
   "outputs": [],
   "source": [
    "r = \" \"\n",
    "print(\"parser: {}\".format(parser))\n",
    "print(\"tokens: {}\".format(token))            \n",
    "print(\"result: \\n  {}\".format(r.join(result)))"
   ]
  }
 ],
 "metadata": {
  "kernelspec": {
   "display_name": "env",
   "language": "python",
   "name": "python3"
  },
  "language_info": {
   "codemirror_mode": {
    "name": "ipython",
    "version": 3
   },
   "file_extension": ".py",
   "mimetype": "text/x-python",
   "name": "python",
   "nbconvert_exporter": "python",
   "pygments_lexer": "ipython3",
   "version": "3.10.6 (main, Nov 14 2022, 16:10:14) [GCC 11.3.0]"
  },
  "vscode": {
   "interpreter": {
    "hash": "2fe02bdf0fedb93e7bc0b9725a1b4e5fa0e50429bef8dd52d58bd18f2faf2dd2"
   }
  }
 },
 "nbformat": 4,
 "nbformat_minor": 5
}
